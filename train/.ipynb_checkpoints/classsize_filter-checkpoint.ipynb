{
 "cells": [
  {
   "cell_type": "markdown",
   "metadata": {},
   "source": [
    "## Filter classes with not enough support\n",
    "\n",
    "This script expects a .hdf file containing simap2 to eggNOG5 matches. It then excludes all sequences which have a support lower then a set threshold and saves the newly generated dataset."
   ]
  },
  {
   "cell_type": "code",
   "execution_count": 9,
   "metadata": {},
   "outputs": [],
   "source": [
    "import os\n",
    "import pandas"
   ]
  },
  {
   "cell_type": "code",
   "execution_count": 10,
   "metadata": {},
   "outputs": [],
   "source": [
    "data_file = '/cube/proteinUniverse/data/simap2_eggnog_bacteria_singlelabel_keep-False.hdf'\n",
    "data_key = 'enog5_bact'\n",
    "min_support = 10000\n",
    "save_path = '/proj/cube/deepfam/data/eggNOG5'\n",
    "save_file = f'simap2_eggnog5_bacteria_singlelabel_keep-False_classsize-{min_support}.hdf'\n",
    "save_key = 'enog5_bact'"
   ]
  },
  {
   "cell_type": "markdown",
   "metadata": {},
   "source": [
    "### Filter data"
   ]
  },
  {
   "cell_type": "code",
   "execution_count": 15,
   "metadata": {},
   "outputs": [],
   "source": [
    "data = pandas.read_hdf(data_file, key=data_key)\n",
    "# Count the support of each eggNOG5 class label\n",
    "data_counts = data['enog5'].value_counts()\n",
    "# Create series containing only eggNOG5 class label with enough support\n",
    "data_counts_mask = data_counts >= min_support \n",
    "#data_counts_mask1 = data_counts >= 10000 \n",
    "#data_counts_mask2 = data_counts <= 10015\n",
    "#data_counts_mask = data_counts_mask1 == data_counts_mask2\n",
    "data_support = data_counts[data_counts_mask]\n",
    "# Select only those sequences which are associated to a frequent eggNOG5 class \n",
    "new_data_mask = data.isin(data_support.index)\n",
    "new_data = data[new_data_mask['enog5']]"
   ]
  },
  {
   "cell_type": "markdown",
   "metadata": {},
   "source": [
    "### Save filtered data"
   ]
  },
  {
   "cell_type": "code",
   "execution_count": 13,
   "metadata": {},
   "outputs": [],
   "source": [
    "path = os.path.join(save_path, save_file)\n",
    "new_data.to_hdf(path, key = save_key, mode = 'w')"
   ]
  },
  {
   "cell_type": "markdown",
   "metadata": {},
   "source": [
    "### Print statistics"
   ]
  },
  {
   "cell_type": "code",
   "execution_count": 14,
   "metadata": {},
   "outputs": [
    {
     "name": "stdout",
     "output_type": "stream",
     "text": [
      "Original data items:  enog5    13830448\n",
      "dtype: int64\n",
      "Original data classes:  206675\n",
      "Filtered data items:  enog5    20017\n",
      "dtype: int64\n",
      "Filtered data classes:  2\n"
     ]
    }
   ],
   "source": [
    "# statistic\n",
    "print('Original data items: ', data.count())\n",
    "print('Original data classes: ', len(data_counts.index))\n",
    "print('Filtered data items: ', new_data.count())\n",
    "print('Filtered data classes: ', len(data_support.index))"
   ]
  },
  {
   "cell_type": "code",
   "execution_count": null,
   "metadata": {},
   "outputs": [],
   "source": []
  }
 ],
 "metadata": {
  "kernelspec": {
   "display_name": "Python 3",
   "language": "python",
   "name": "python3"
  },
  "language_info": {
   "codemirror_mode": {
    "name": "ipython",
    "version": 3
   },
   "file_extension": ".py",
   "mimetype": "text/x-python",
   "name": "python",
   "nbconvert_exporter": "python",
   "pygments_lexer": "ipython3",
   "version": "3.7.3"
  }
 },
 "nbformat": 4,
 "nbformat_minor": 4
}
